{
 "cells": [
  {
   "cell_type": "code",
   "execution_count": 1,
   "id": "a739fa45",
   "metadata": {},
   "outputs": [],
   "source": [
    "import pandas as pd\n",
    "import mysql.connector\n",
    "from mysql.connector import Error\n",
    "from pandas.io import sql\n",
    "import MySQLdb\n",
    "from sqlalchemy import create_engine"
   ]
  },
  {
   "cell_type": "markdown",
   "id": "fc23fafe",
   "metadata": {},
   "source": [
    "## Import Raw Data\n",
    "\n",
    "> Import raw data from csv to a dataframe"
   ]
  },
  {
   "cell_type": "code",
   "execution_count": 2,
   "id": "44021b35",
   "metadata": {},
   "outputs": [],
   "source": [
    "class Extractor:\n",
    "    \n",
    "    def __init__(self, path):\n",
    "        \n",
    "        self.path = path\n",
    "    \n",
    "    def load_csv(self, path):\n",
    "               \n",
    "        df = pd.read_csv(path)\n",
    "        \n",
    "        return df"
   ]
  },
  {
   "cell_type": "code",
   "execution_count": 3,
   "id": "220e82ff",
   "metadata": {},
   "outputs": [
    {
     "data": {
      "text/html": [
       "<div>\n",
       "<style scoped>\n",
       "    .dataframe tbody tr th:only-of-type {\n",
       "        vertical-align: middle;\n",
       "    }\n",
       "\n",
       "    .dataframe tbody tr th {\n",
       "        vertical-align: top;\n",
       "    }\n",
       "\n",
       "    .dataframe thead th {\n",
       "        text-align: right;\n",
       "    }\n",
       "</style>\n",
       "<table border=\"1\" class=\"dataframe\">\n",
       "  <thead>\n",
       "    <tr style=\"text-align: right;\">\n",
       "      <th></th>\n",
       "      <th>track_id; type; traveled_d; avg_speed; lat; lon; speed; lon_acc; lat_acc; time</th>\n",
       "    </tr>\n",
       "  </thead>\n",
       "  <tbody>\n",
       "    <tr>\n",
       "      <th>0</th>\n",
       "      <td>1; Car; 10.18; 36.634649; 37.984642; 23.724906...</td>\n",
       "    </tr>\n",
       "    <tr>\n",
       "      <th>1</th>\n",
       "      <td>2; Car; 21.81; 39.253912; 37.984630; 23.725042...</td>\n",
       "    </tr>\n",
       "    <tr>\n",
       "      <th>2</th>\n",
       "      <td>3; Motorcycle; 29.68; 38.165999; 37.984594; 23...</td>\n",
       "    </tr>\n",
       "    <tr>\n",
       "      <th>3</th>\n",
       "      <td>4; Car; 40.72; 36.645291; 37.984582; 23.725250...</td>\n",
       "    </tr>\n",
       "    <tr>\n",
       "      <th>4</th>\n",
       "      <td>5; Car; 6.81; 12.251624; 37.984506; 23.725572;...</td>\n",
       "    </tr>\n",
       "  </tbody>\n",
       "</table>\n",
       "</div>"
      ],
      "text/plain": [
       "  track_id; type; traveled_d; avg_speed; lat; lon; speed; lon_acc; lat_acc; time\n",
       "0  1; Car; 10.18; 36.634649; 37.984642; 23.724906...                            \n",
       "1  2; Car; 21.81; 39.253912; 37.984630; 23.725042...                            \n",
       "2  3; Motorcycle; 29.68; 38.165999; 37.984594; 23...                            \n",
       "3  4; Car; 40.72; 36.645291; 37.984582; 23.725250...                            \n",
       "4  5; Car; 6.81; 12.251624; 37.984506; 23.725572;...                            "
      ]
     },
     "execution_count": 3,
     "metadata": {},
     "output_type": "execute_result"
    }
   ],
   "source": [
    "path = r'C:\\Users\\benja\\OneDrive\\Documents\\python\\Traffic_Data\\20181024_dX_0830_0900.csv'\n",
    "\n",
    "df = Extractor(path)\n",
    "df = df.load_csv(path)\n",
    "df.head(5)"
   ]
  },
  {
   "cell_type": "markdown",
   "id": "e4444b3b",
   "metadata": {},
   "source": [
    "## Restructure Data\n",
    "> Since the data we got is in a format that isn't very useful to us, we need to restructure our dataframe. We want our data in a format where each cell is a data point, except for trajectory which will have several data points "
   ]
  },
  {
   "cell_type": "code",
   "execution_count": 4,
   "id": "9dbab45f",
   "metadata": {},
   "outputs": [],
   "source": [
    "class Restruct:\n",
    "    \n",
    "    def __init__(self, data):\n",
    "        \n",
    "        self.data = data\n",
    "   \n",
    "    def restructure(self, data):\n",
    "        track_ids = []\n",
    "        types = []\n",
    "        traveled_d = []\n",
    "        avg_speeds =[]\n",
    "        trajectories = []\n",
    "    \n",
    "        for r in range(len(data)):\n",
    "            row = data.iloc[r,:][0].split(';')  # seperates values at every semicolon\n",
    "            row_p1 = row[:4]                    # takes all of the values but trajectory\n",
    "            row_p2 = row[4:]                    # takes all of the trajectory values\n",
    "            trajectory = ','.join(row_p2)       # combines trajectory values\n",
    "        \n",
    "            track_ids.append(row_p1[0])          # populates track_ids list\n",
    "            types.append(row_p1[1])              # populates types list\n",
    "            traveled_d.append(row_p1[2])         # populates traveled_d list\n",
    "            avg_speeds.append(row_p1[3])         # populates avg_speeds list\n",
    "            trajectories.append(trajectory[1:])  # populates trajectory list\n",
    "        \n",
    "        columns = data.columns[0].split(';')[:4] # seperates column labels into individual values\n",
    "        columns.append('trajectory')             # adds trajectory label to dataframe\n",
    "        columns[1] = 'types'                     # changes name of column label to types\n",
    "        for i in range(len(columns)):\n",
    "            columns[i] = columns[i].strip()      # creates new column labels and removes empty space in data\n",
    "            \n",
    "    \n",
    "        # creates dictionary with new labels and seperated data lists \n",
    "        data_dict = {columns[0]:track_ids, columns[1]:types, columns[2]:traveled_d, columns[3]:avg_speeds, columns[4]:trajectories}\n",
    "        new_df = pd.DataFrame(data_dict) # creates dataframe from dictionary\n",
    "    \n",
    "        print('dataframe successfully created')\n",
    "        return new_df"
   ]
  },
  {
   "cell_type": "code",
   "execution_count": 5,
   "id": "bc2966b4",
   "metadata": {},
   "outputs": [
    {
     "name": "stdout",
     "output_type": "stream",
     "text": [
      "dataframe successfully created\n"
     ]
    },
    {
     "data": {
      "text/html": [
       "<div>\n",
       "<style scoped>\n",
       "    .dataframe tbody tr th:only-of-type {\n",
       "        vertical-align: middle;\n",
       "    }\n",
       "\n",
       "    .dataframe tbody tr th {\n",
       "        vertical-align: top;\n",
       "    }\n",
       "\n",
       "    .dataframe thead th {\n",
       "        text-align: right;\n",
       "    }\n",
       "</style>\n",
       "<table border=\"1\" class=\"dataframe\">\n",
       "  <thead>\n",
       "    <tr style=\"text-align: right;\">\n",
       "      <th></th>\n",
       "      <th>track_id</th>\n",
       "      <th>types</th>\n",
       "      <th>traveled_d</th>\n",
       "      <th>avg_speed</th>\n",
       "      <th>trajectory</th>\n",
       "    </tr>\n",
       "  </thead>\n",
       "  <tbody>\n",
       "    <tr>\n",
       "      <th>0</th>\n",
       "      <td>1</td>\n",
       "      <td>Car</td>\n",
       "      <td>10.18</td>\n",
       "      <td>36.634649</td>\n",
       "      <td>37.984642, 23.724906, 38.1611, 0.0000, 0.0000,...</td>\n",
       "    </tr>\n",
       "    <tr>\n",
       "      <th>1</th>\n",
       "      <td>2</td>\n",
       "      <td>Car</td>\n",
       "      <td>21.81</td>\n",
       "      <td>39.253912</td>\n",
       "      <td>37.984630, 23.725042, 40.0550, 0.0000, -0.0000...</td>\n",
       "    </tr>\n",
       "    <tr>\n",
       "      <th>2</th>\n",
       "      <td>3</td>\n",
       "      <td>Motorcycle</td>\n",
       "      <td>29.68</td>\n",
       "      <td>38.165999</td>\n",
       "      <td>37.984594, 23.725116, 38.3354, -0.0245, -0.283...</td>\n",
       "    </tr>\n",
       "    <tr>\n",
       "      <th>3</th>\n",
       "      <td>4</td>\n",
       "      <td>Car</td>\n",
       "      <td>40.72</td>\n",
       "      <td>36.645291</td>\n",
       "      <td>37.984582, 23.725250, 37.3981, -0.0227, 0.0415...</td>\n",
       "    </tr>\n",
       "    <tr>\n",
       "      <th>4</th>\n",
       "      <td>5</td>\n",
       "      <td>Car</td>\n",
       "      <td>6.81</td>\n",
       "      <td>12.251624</td>\n",
       "      <td>37.984506, 23.725572, 10.9666, -0.0423, -0.802...</td>\n",
       "    </tr>\n",
       "  </tbody>\n",
       "</table>\n",
       "</div>"
      ],
      "text/plain": [
       "  track_id        types traveled_d   avg_speed  \\\n",
       "0        1          Car      10.18   36.634649   \n",
       "1        2          Car      21.81   39.253912   \n",
       "2        3   Motorcycle      29.68   38.165999   \n",
       "3        4          Car      40.72   36.645291   \n",
       "4        5          Car       6.81   12.251624   \n",
       "\n",
       "                                          trajectory  \n",
       "0  37.984642, 23.724906, 38.1611, 0.0000, 0.0000,...  \n",
       "1  37.984630, 23.725042, 40.0550, 0.0000, -0.0000...  \n",
       "2  37.984594, 23.725116, 38.3354, -0.0245, -0.283...  \n",
       "3  37.984582, 23.725250, 37.3981, -0.0227, 0.0415...  \n",
       "4  37.984506, 23.725572, 10.9666, -0.0423, -0.802...  "
      ]
     },
     "execution_count": 5,
     "metadata": {},
     "output_type": "execute_result"
    }
   ],
   "source": [
    "new_df = Restruct(df)\n",
    "new_df = new_df.restructure(df)\n",
    "\n",
    "new_df.head()"
   ]
  },
  {
   "cell_type": "markdown",
   "id": "eb216879",
   "metadata": {},
   "source": [
    "## Warehouse Data\n",
    "\n",
    "> Now we connect to sql in order to create databases and tables to house our data, and populate those tables with the data from the dataframes we created"
   ]
  },
  {
   "cell_type": "code",
   "execution_count": 11,
   "id": "8d03832c",
   "metadata": {},
   "outputs": [],
   "source": [
    "class Database_Build:\n",
    "\n",
    "    def __init__(self, host, username, password, table_name, database_name, df):\n",
    "        \n",
    "        \n",
    "        self.host = host\n",
    "        self.username = username\n",
    "        self.password = password\n",
    "        self.table_name = table_name        \n",
    "        self.database_name = database_name\n",
    "        self.df = df\n",
    "        \n",
    "    def connect_to_server(self, host, username, password):\n",
    "        \n",
    "        try:\n",
    "            cnct = mysql.connector.connect(host = host, username = username, password = password) # creates a connection to sql server\n",
    "            print(\"MySQL Server Connection Successful\")\n",
    "        except Error as err:\n",
    "            print(f\"Error: '{err}'\")\n",
    "        \n",
    "        return cnct\n",
    "    \n",
    "    def create_db(self, database_name):\n",
    "        \n",
    "        try:\n",
    "            mycursor = cnct.cursor()                              # allows us to write sql queries\n",
    "            mycursor.execute(f\"CREATE DATABASE {database_name}\")  # executes query to create data of the name that we specified\n",
    "            print(\"Database Created Successfully\")\n",
    "        except Error as err:\n",
    "            print(f\"Error: '{err}'\")\n",
    "            \n",
    "        return mycursor\n",
    "    \n",
    "    def connect_to_db(self, host, username, password, database_name):\n",
    "        \n",
    "        try:\n",
    "            mydb = mysql.connector.connect(host = host, username = username, password = password, database = database_name)  # connects to specified sql db\n",
    "            print(\"MySQL Database Connection Successful\")\n",
    "        except Error as err:\n",
    "            print(f\"Error: '{err}'\")\n",
    "        \n",
    "        return mydb\n",
    "    \n",
    "    def make_table(self, df, table_name):\n",
    "        \n",
    "        column = list(df.columns.values)\n",
    "        \n",
    "        try:\n",
    "            table = f\"CREATE TABLE IF NOT EXISTS {table_name}(\"        \n",
    "            for col in range(len(column)):\n",
    "                table += '\\n' + column[col] + ' ' + input(f\"Enter data type for {column[col]}: \") + ','  \n",
    "            table = table[:-1] + ')'\n",
    "        \n",
    "            mycursor = mybase.cursor()\n",
    "            mycursor.execute(table)\n",
    "            print(\"Table Created Successfully or Already Exists\")\n",
    "        except Error as err:\n",
    "            print(f\"Error: '{err}'\")\n",
    "        \n",
    "        return table\n",
    "    \n",
    "    def pop_table(self, df, table_name, host, username, password, database_name):\n",
    "        \n",
    "        engine = create_engine(f'mysql://{username}:{password}@{host}/{database_name}') # creates a connection to the sql db\n",
    "            \n",
    "        fill_table = df.to_sql(con = engine, name = table_name, if_exists = 'replace')\n",
    "        \n",
    "        return fill_table"
   ]
  },
  {
   "cell_type": "code",
   "execution_count": 7,
   "id": "6fb01f05",
   "metadata": {},
   "outputs": [
    {
     "name": "stdout",
     "output_type": "stream",
     "text": [
      "MySQL Server Connection Successful\n"
     ]
    }
   ],
   "source": [
    "host = 'localhost'\n",
    "username = 'root'\n",
    "password = 'password'\n",
    "database_name = 'Trafficdata'\n",
    "table_name = 'traffic_data'\n",
    "df = new_df\n",
    "\n",
    "\n",
    "\n",
    "\n",
    "cnct = Database_Build(df, host, username, password, database_name, table_name)\n",
    "cnct = cnct.connect_to_server(host,username,password)"
   ]
  },
  {
   "cell_type": "code",
   "execution_count": 8,
   "id": "eb665618",
   "metadata": {},
   "outputs": [
    {
     "name": "stdout",
     "output_type": "stream",
     "text": [
      "Error: '1007 (HY000): Can't create database 'trafficdata'; database exists'\n"
     ]
    }
   ],
   "source": [
    "mycursor = Database_Build(df, host, username, password, database_name, table_name)\n",
    "mycursor = mycursor.create_db(database_name)"
   ]
  },
  {
   "cell_type": "code",
   "execution_count": 9,
   "id": "eb54a3fe",
   "metadata": {},
   "outputs": [
    {
     "name": "stdout",
     "output_type": "stream",
     "text": [
      "MySQL Database Connection Successful\n"
     ]
    }
   ],
   "source": [
    "mybase = Database_Build(df, host, username, password, database_name, table_name)\n",
    "mybase = mybase.connect_to_db(host, username, password, database_name)"
   ]
  },
  {
   "cell_type": "code",
   "execution_count": 12,
   "id": "361932cc",
   "metadata": {},
   "outputs": [
    {
     "name": "stdout",
     "output_type": "stream",
     "text": [
      "Enter data type for track_id: INT\n",
      "Enter data type for types: VARCHAR(40)\n",
      "Enter data type for traveled_d: FLOAT\n",
      "Enter data type for avg_speed: FLOAT\n",
      "Enter data type for trajectory: FLOAT\n",
      "Table Created Successfully or Already Exists\n"
     ]
    }
   ],
   "source": [
    "table = Database_Build(df, host, username, password, database_name, table_name)\n",
    "table = table.make_table(df, table_name)"
   ]
  },
  {
   "cell_type": "code",
   "execution_count": 13,
   "id": "c14f4ba2",
   "metadata": {},
   "outputs": [],
   "source": [
    "dataf = new_df\n",
    "\n",
    "fill_table = Database_Build(df, host, username, password, database_name, table_name)\n",
    "fill_table = fill_table.pop_table(dataf, table_name, host, username, password, database_name)"
   ]
  }
 ],
 "metadata": {
  "kernelspec": {
   "display_name": "Python 3 (ipykernel)",
   "language": "python",
   "name": "python3"
  },
  "language_info": {
   "codemirror_mode": {
    "name": "ipython",
    "version": 3
   },
   "file_extension": ".py",
   "mimetype": "text/x-python",
   "name": "python",
   "nbconvert_exporter": "python",
   "pygments_lexer": "ipython3",
   "version": "3.9.13"
  }
 },
 "nbformat": 4,
 "nbformat_minor": 5
}
